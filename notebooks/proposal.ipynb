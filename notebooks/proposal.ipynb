{
 "cells": [
  {
   "cell_type": "code",
   "execution_count": 25,
   "metadata": {},
   "outputs": [
    {
     "name": "stdout",
     "output_type": "stream",
     "text": [
      "The autoreload extension is already loaded. To reload it, use:\n",
      "  %reload_ext autoreload\n"
     ]
    }
   ],
   "source": [
    "%load_ext autoreload\n",
    "%autoreload 2\n",
    "\n",
    "import os\n",
    "import os.path as osp\n",
    "os.chdir('/home/gangus/cow-tus')\n",
    "\n",
    "import re\n",
    "import pandas as pd\n",
    "import numpy as np"
   ]
  },
  {
   "cell_type": "code",
   "execution_count": 139,
   "metadata": {},
   "outputs": [],
   "source": [
    "metric = 'roc_auc'\n",
    "query = f\"valid/{metric}': \"\n",
    "\n",
    "data = []\n",
    "for root, dirs, files in os.walk('experiments/proposal/instance-level-learning/ST-2normal_binary/full_size/no_augmentation/all_data/'):\n",
    "    if 'emmental.log' in files and len(files) == 3:\n",
    "        with open(osp.join(root, 'emmental.log'), 'r') as f:\n",
    "            fold_idx = root.index('fold')\n",
    "            lines = f.readlines()\n",
    "            primary_metric_str = re.findall(f\"{query}[0-9\\.]+\", \"\\n\".join(lines)) # guaranteed to be in order\n",
    "            primary_metric_val = max([float(s[len(query):]) for s in primary_metric_str])\n",
    "            data.append({\n",
    "                'fold': root[fold_idx: fold_idx +6],\n",
    "                'root': root,\n",
    "                'epoch': epoch,\n",
    "                'metric': metric,\n",
    "                'query': query,\n",
    "                f'{metric}': float(primary_metric_val),\n",
    "            })"
   ]
  },
  {
   "cell_type": "code",
   "execution_count": 140,
   "metadata": {},
   "outputs": [],
   "source": [
    "data_df = pd.DataFrame(data)"
   ]
  },
  {
   "cell_type": "code",
   "execution_count": 156,
   "metadata": {},
   "outputs": [
    {
     "name": "stdout",
     "output_type": "stream",
     "text": [
      "fold_1\n",
      "[0.83312102 0.85846224 0.81856233 0.83048226 0.78362147]\n",
      "0.8304822565969063 0.824849863512284 0.024368999954065655\n",
      "fold_2\n",
      "[0.68003731 0.77028918 0.77810168 0.80979478 0.74503265]\n",
      "0.7702891791044776 0.7566511194029851 0.04353167937712033\n",
      "fold_3\n",
      "[0.67482941 0.72597953 0.74397425 0.76045565 0.73805855]\n",
      "0.7380585516178737 0.7286594761171032 0.029116110953338565\n",
      "fold_4\n",
      "[0.72624744 0.7963944  0.8258715  0.81254272 0.78631237]\n",
      "0.7963943950786057 0.7894736842105263 0.034387293300118714\n",
      "fold_5\n",
      "[0.72119565 0.78532609 0.75932971 0.79583333 0.77083333]\n",
      "0.7708333333333333 0.7665036231884057 0.025836178878588405\n"
     ]
    }
   ],
   "source": [
    "bests = []\n",
    "fold_groups = data_df.groupby('fold')\n",
    "for fold, fold_group in fold_groups:\n",
    "    root_groups = fold_group.groupby('root')\n",
    "    fold_bests = []\n",
    "    for root, root_group in root_groups:\n",
    "        fold_bests.append(root_group[metric].max())\n",
    "    fold_bests = np.array(fold_bests)\n",
    "    print(fold)\n",
    "    print(fold_bests)\n",
    "    print(np.median(fold_bests), fold_bests.mean(), fold_bests.std())\n",
    "    bests += list(fold_bests)"
   ]
  },
  {
   "cell_type": "code",
   "execution_count": 143,
   "metadata": {},
   "outputs": [],
   "source": [
    "bests = np.array(bests)"
   ]
  },
  {
   "cell_type": "code",
   "execution_count": 145,
   "metadata": {},
   "outputs": [
    {
     "data": {
      "text/plain": [
       "0.7781016791044776"
      ]
     },
     "execution_count": 145,
     "metadata": {},
     "output_type": "execute_result"
    }
   ],
   "source": [
    "np.median(bests)"
   ]
  },
  {
   "cell_type": "code",
   "execution_count": 150,
   "metadata": {},
   "outputs": [
    {
     "data": {
      "text/plain": [
       "[0.6748294078802552,\n",
       " 0.6800373134328358,\n",
       " 0.7211956521739131,\n",
       " 0.7259795289456308,\n",
       " 0.7262474367737526,\n",
       " 0.7380585516178737,\n",
       " 0.7439742460928902,\n",
       " 0.7450326492537314,\n",
       " 0.7593297101449276,\n",
       " 0.7604556460488665,\n",
       " 0.7702891791044776,\n",
       " 0.7708333333333333,\n",
       " 0.7781016791044776,\n",
       " 0.783621474067334,\n",
       " 0.7853260869565217,\n",
       " 0.7863123718386877,\n",
       " 0.7958333333333334,\n",
       " 0.7963943950786057,\n",
       " 0.809794776119403,\n",
       " 0.8125427204374573,\n",
       " 0.8185623293903549,\n",
       " 0.8258714969241285,\n",
       " 0.8304822565969063,\n",
       " 0.8331210191082803,\n",
       " 0.8584622383985441]"
      ]
     },
     "execution_count": 150,
     "metadata": {},
     "output_type": "execute_result"
    }
   ],
   "source": [
    "sorted(bests)"
   ]
  },
  {
   "cell_type": "code",
   "execution_count": 155,
   "metadata": {},
   "outputs": [
    {
     "name": "stdout",
     "output_type": "stream",
     "text": [
      "85.0 confidence interval 68.0% and 83.3%\n"
     ]
    }
   ],
   "source": [
    "from sklearn.utils import resample\n",
    "stats = resample(bests, replace=True, n_samples=1000, random_state=1)\n",
    "\n",
    "alpha = 0.85\n",
    "p = ((1.0-alpha)/2.0) * 100\n",
    "lower = max(0.0, np.percentile(stats, p))\n",
    "p = (alpha+((1.0-alpha)/2.0)) * 100\n",
    "upper = min(1.0, np.percentile(stats, p))\n",
    "print('%.1f confidence interval %.1f%% and %.1f%%' % (alpha*100, lower*100, upper*100))"
   ]
  },
  {
   "cell_type": "code",
   "execution_count": 108,
   "metadata": {},
   "outputs": [
    {
     "data": {
      "text/plain": [
       "0.04565457227187473"
      ]
     },
     "execution_count": 108,
     "metadata": {},
     "output_type": "execute_result"
    }
   ],
   "source": [
    "bests.std()"
   ]
  },
  {
   "cell_type": "code",
   "execution_count": 109,
   "metadata": {},
   "outputs": [
    {
     "data": {
      "text/plain": [
       "array([0.83312102, 0.85846224, 0.81856233, 0.83048226, 0.78362147,\n",
       "       0.68003731, 0.77028918, 0.77810168, 0.80979478, 0.74503265,\n",
       "       0.67482941, 0.72597953, 0.74397425, 0.76045565, 0.73805855,\n",
       "       0.72624744, 0.7963944 , 0.8258715 , 0.81254272, 0.78631237,\n",
       "       0.72119565, 0.78532609, 0.75932971, 0.79583333, 0.77083333])"
      ]
     },
     "execution_count": 109,
     "metadata": {},
     "output_type": "execute_result"
    }
   ],
   "source": [
    "bests"
   ]
  },
  {
   "cell_type": "code",
   "execution_count": 114,
   "metadata": {},
   "outputs": [],
   "source": [
    "import seaborn as sns\n",
    "import matplotlib.pyplot as plt"
   ]
  },
  {
   "cell_type": "code",
   "execution_count": 129,
   "metadata": {},
   "outputs": [
    {
     "data": {
      "text/plain": [
       "Text(0.5, 1.0, 'Overall')"
      ]
     },
     "execution_count": 129,
     "metadata": {},
     "output_type": "execute_result"
    },
    {
     "data": {
      "image/png": "[encoded data removed]",
      "text/plain": [
       "<Figure size 144x288 with 1 Axes>"
      ]
     },
     "metadata": {
      "needs_background": "light"
     },
     "output_type": "display_data"
    }
   ],
   "source": [
    "plt.figure(figsize=(2,4))\n",
    "sns.barplot(y=bests)\n",
    "plt.ylim(0.5, 1.0)\n",
    "plt.title('Overall')"
   ]
  },
  {
   "cell_type": "code",
   "execution_count": 130,
   "metadata": {},
   "outputs": [
    {
     "data": {
      "text/plain": [
       "Text(0.5, 1.0, 'Each fold, 5 seeds')"
      ]
     },
     "execution_count": 130,
     "metadata": {},
     "output_type": "execute_result"
    },
    {
     "data": {
      "image/png": "[encoded data removed]",
      "text/plain": [
       "<Figure size 432x288 with 1 Axes>"
      ]
     },
     "metadata": {
      "needs_background": "light"
     },
     "output_type": "display_data"
    }
   ],
   "source": [
    "sns.barplot(data=data_df, x='fold', y='roc_auc', order=[f'fold_{k+1}' for k in range(5)])\n",
    "plt.ylim(0.5, 1.0)\n",
    "plt.title('Each fold, 5 seeds')"
   ]
  },
  {
   "cell_type": "code",
   "execution_count": null,
   "metadata": {},
   "outputs": [],
   "source": []
  }
 ],
 "metadata": {
  "kernelspec": {
   "display_name": "Python 3",
   "language": "python",
   "name": "python3"
  },
  "language_info": {
   "codemirror_mode": {
    "name": "ipython",
    "version": 3
   },
   "file_extension": ".py",
   "mimetype": "text/x-python",
   "name": "python",
   "nbconvert_exporter": "python",
   "pygments_lexer": "ipython3",
   "version": "3.7.4"
  }
 },
 "nbformat": 4,
 "nbformat_minor": 4
}
