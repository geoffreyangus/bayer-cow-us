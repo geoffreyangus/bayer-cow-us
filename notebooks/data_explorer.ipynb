{
 "cells": [
  {
   "cell_type": "code",
   "execution_count": null,
   "metadata": {
    "jupyter": {
     "source_hidden": true
    }
   },
   "outputs": [],
   "source": [
    "%load_ext autoreload\n",
    "%autoreload 2\n",
    "%matplotlib inline\n",
    "\n",
    "import os\n",
    "from IPython.display import HTML\n",
    "from collections import Counter\n",
    "\n",
    "import pandas as pd\n",
    "import numpy as np\n",
    "from tqdm import tqdm\n",
    "import cv2\n",
    "import matplotlib.pyplot as plt\n",
    "from matplotlib import animation\n",
    "import skvideo.io\n",
    "from time import time\n",
    "\n",
    "from cow_tus.analysis.visualizations.viewer import process_loop, process_loops, play"
   ]
  },
  {
   "cell_type": "markdown",
   "metadata": {},
   "source": [
    "## Abnormal Example (4 label)"
   ]
  },
  {
   "cell_type": "code",
   "execution_count": null,
   "metadata": {},
   "outputs": [],
   "source": [
    "sample_dir = '/data/cow-tus-data/raw/exams/WT4484/'\n",
    "configs = [\n",
    "    {\n",
    "        \"size\": (210, 280),\n",
    "        \"skip\": 3\n",
    "    }, \n",
    "]\n",
    "np.prod(process_loops(sample_dir, size=config['size'], skip=config['skip']).shape)"
   ]
  },
  {
   "cell_type": "code",
   "execution_count": null,
   "metadata": {},
   "outputs": [],
   "source": [
    "videos_4 = []\n",
    "for config in configs:\n",
    "    video = process_loops(sample_dir, size=config['size'], skip=config['skip'])\n",
    "    videos_4.append(video)\n",
    "    print('Shape:', video.shape)\n",
    "    print('Total:', np.prod(video.shape))"
   ]
  },
  {
   "cell_type": "code",
   "execution_count": null,
   "metadata": {},
   "outputs": [],
   "source": [
    "anim = play(videos_4[0])\n",
    "HTML(anim.to_html5_video())"
   ]
  },
  {
   "cell_type": "code",
   "execution_count": null,
   "metadata": {},
   "outputs": [],
   "source": [
    "anim = play(videos_4[1])\n",
    "HTML(anim.to_html5_video())"
   ]
  },
  {
   "cell_type": "markdown",
   "metadata": {},
   "source": [
    "## Normal Example (1 label)"
   ]
  },
  {
   "cell_type": "code",
   "execution_count": null,
   "metadata": {},
   "outputs": [],
   "source": [
    "sample_dir = '/data/cow-tus-data/raw/exams/OR3785/'\n",
    "\n",
    "videos_1 = []\n",
    "for config in configs:\n",
    "    video = process_loops(sample_dir, size=config['size'], skip=config['skip'])\n",
    "    videos_1.append(video)\n",
    "    print('Shape:', video.shape)\n",
    "    print('Total:', np.prod(video.shape))"
   ]
  },
  {
   "cell_type": "code",
   "execution_count": null,
   "metadata": {},
   "outputs": [],
   "source": [
    "anim = play(videos_1[0])\n",
    "HTML(anim.to_html5_video())"
   ]
  },
  {
   "cell_type": "code",
   "execution_count": null,
   "metadata": {},
   "outputs": [],
   "source": [
    "anim = play(videos_1[1])\n",
    "HTML(anim.to_html5_video()) "
   ]
  },
  {
   "cell_type": "markdown",
   "metadata": {},
   "source": [
    "## Middle Example (2 label)"
   ]
  },
  {
   "cell_type": "code",
   "execution_count": null,
   "metadata": {},
   "outputs": [],
   "source": [
    "sample_dir = '/data/cow-tus-data/raw/exams/TN4236/'\n",
    "videos_2 = []\n",
    "for config in configs:\n",
    "    video = process_loops(sample_dir, size=config['size'], skip=config['skip'])\n",
    "    videos_2.append(video)”\n",
    "    print('Shape:', video.shape)\n",
    "    print('Total:', np.prod(video.shape))"
   ]
  },
  {
   "cell_type": "code",
   "execution_count": null,
   "metadata": {},
   "outputs": [],
   "source": [
    "anim = play(videos_2[0])\n",
    "HTML(anim.to_html5_video())"
   ]
  },
  {
   "cell_type": "code",
   "execution_count": null,
   "metadata": {},
   "outputs": [],
   "source": [
    "anim = play(videos_2[1])\n",
    "HTML(anim.to_html5_video())"
   ]
  },
  {
   "cell_type": "code",
   "execution_count": null,
   "metadata": {},
   "outputs": [],
   "source": [
    "data_dir = '/data/cow-tus-data/raw/'\n",
    "# for sample_dir in tqdm(os.listdir(data_dir)):\n",
    "#     sample = os.listdir(os.path.join(data_dir, sample_dir))[0]\n",
    "#     video = process_loop(os.path.join(data_dir, sample_dir, sample))\n",
    "#     shapes.append(os.path.join(data_dir, sample_dir, sample))\n",
    "#     print(video.shape)"
   ]
  },
  {
   "cell_type": "code",
   "execution_count": null,
   "metadata": {},
   "outputs": [],
   "source": []
  },
  {
   "cell_type": "code",
   "execution_count": null,
   "metadata": {},
   "outputs": [],
   "source": [
    "patient_df = pd.read_csv(os.path.join(data_dir, 'labels.csv'))"
   ]
  },
  {
   "cell_type": "code",
   "execution_count": null,
   "metadata": {},
   "outputs": [],
   "source": [
    "len(patient_df['Animal Number'].unique())"
   ]
  },
  {
   "cell_type": "code",
   "execution_count": null,
   "metadata": {},
   "outputs": [],
   "source": [
    "len(patient_df['Tag Color'].unique())"
   ]
  },
  {
   "cell_type": "code",
   "execution_count": null,
   "metadata": {},
   "outputs": [],
   "source": [
    "len(patient_df)"
   ]
  },
  {
   "cell_type": "code",
   "execution_count": null,
   "metadata": {},
   "outputs": [],
   "source": [
    "patient_df.loc[patient_df['Animal Number'] == 4493]"
   ]
  },
  {
   "cell_type": "code",
   "execution_count": null,
   "metadata": {},
   "outputs": [],
   "source": [
    "# t = time()\n",
    "# exam_dir = '/data/cow-tus-data/raw/exams/OR3785/'\n",
    "# video = skvideo.io.vread(os.path.join(exam_dir, '3785L7.AVI'))\n",
    "# d, h, w, c = video.shape\n",
    "# print(video.shape)\n",
    "# out = np.zeros((d, h, w))\n",
    "# for i, frame in enumerate(video):\n",
    "#     out[i] = cv2.cvtColor(frame, cv2.COLOR_RGB2GRAY)\n",
    "# print(t - time())\n",
    "# anim = play(out)\n",
    "# HTML(anim.to_html5_video())"
   ]
  },
  {
   "cell_type": "code",
   "execution_count": null,
   "metadata": {},
   "outputs": [],
   "source": [
    "# t = time()\n",
    "# exam_dir = '/data/cow-tus-data/raw/exams/OR3785/'\n",
    "# video = skvideo.io.vread(os.path.join(exam_dir, '3785L7.AVI'))\n",
    "# video = video[:, :, :, 0]\n",
    "# print(t - time())\n",
    "# anim = play(video)\n",
    "# HTML(anim.to_html5_video())"
   ]
  },
  {
   "cell_type": "code",
   "execution_count": null,
   "metadata": {},
   "outputs": [],
   "source": []
  }
 ],
 "metadata": {
  "kernelspec": {
   "display_name": "Python 3",
   "language": "python",
   "name": "python3"
  },
  "language_info": {
   "codemirror_mode": {
    "name": "ipython",
    "version": 3
   },
   "file_extension": ".py",
   "mimetype": "text/x-python",
   "name": "python",
   "nbconvert_exporter": "python",
   "pygments_lexer": "ipython3",
   "version": "3.7.4"
  }
 },
 "nbformat": 4,
 "nbformat_minor": 4
}
