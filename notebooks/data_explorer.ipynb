{
 "cells": [
  {
   "cell_type": "code",
   "execution_count": 76,
   "metadata": {},
   "outputs": [
    {
     "name": "stdout",
     "output_type": "stream",
     "text": [
      "The autoreload extension is already loaded. To reload it, use:\n",
      "  %reload_ext autoreload\n"
     ]
    }
   ],
   "source": [
    "%load_ext autoreload\n",
    "%autoreload 2\n",
    "%matplotlib inline\n",
    "\n",
    "import os\n",
    "from IPython.display import HTML\n",
    "from collections import Counter\n",
    "\n",
    "import pandas as pd\n",
    "import numpy as np\n",
    "from tqdm import tqdm\n",
    "import cv2\n",
    "import matplotlib.pyplot as plt\n",
    "from matplotlib import animation\n",
    "import skvideo.io\n",
    "from time import time\n",
    "\n",
    "from cow_tus.analysis.visualizations.viewer import process_loop, process_loops, play"
   ]
  },
  {
   "cell_type": "markdown",
   "metadata": {},
   "source": [
    "## Abnormal Example (4 label)"
   ]
  },
  {
   "cell_type": "code",
   "execution_count": 54,
   "metadata": {},
   "outputs": [
    {
     "name": "stderr",
     "output_type": "stream",
     "text": [
      "100%|██████████| 8/8 [00:03<00:00,  2.33it/s]\n"
     ]
    },
    {
     "data": {
      "text/plain": [
       "8003072"
      ]
     },
     "execution_count": 54,
     "metadata": {},
     "output_type": "execute_result"
    }
   ],
   "source": [
    "sample_dir = '/data/cow-tus-data/raw/exams/WT4484/'\n",
    "configs = [\n",
    "    {\n",
    "        \"size\": (210, 280),\n",
    "        \"skip\": 3\n",
    "    }, \n",
    "]\n",
    "np.prod(process_loops(sample_dir, size=config['size'], skip=config['skip']).shape)"
   ]
  },
  {
   "cell_type": "code",
   "execution_count": null,
   "metadata": {},
   "outputs": [],
   "source": [
    "videos_4 = []\n",
    "for config in configs:\n",
    "    video = process_loops(sample_dir, size=config['size'], skip=config['skip'])\n",
    "    videos_4.append(video)\n",
    "    print('Shape:', video.shape)\n",
    "    print('Total:', np.prod(video.shape))"
   ]
  },
  {
   "cell_type": "code",
   "execution_count": null,
   "metadata": {},
   "outputs": [],
   "source": [
    "anim = play(videos_4[0])\n",
    "HTML(anim.to_html5_video())"
   ]
  },
  {
   "cell_type": "code",
   "execution_count": null,
   "metadata": {},
   "outputs": [],
   "source": [
    "anim = play(videos_4[1])\n",
    "HTML(anim.to_html5_video())"
   ]
  },
  {
   "cell_type": "markdown",
   "metadata": {},
   "source": [
    "## Normal Example (1 label)"
   ]
  },
  {
   "cell_type": "code",
   "execution_count": 55,
   "metadata": {},
   "outputs": [
    {
     "name": "stderr",
     "output_type": "stream",
     "text": [
      "100%|██████████| 8/8 [00:03<00:00,  2.34it/s]"
     ]
    },
    {
     "name": "stdout",
     "output_type": "stream",
     "text": [
      "Shape: (328, 210, 140)\n",
      "Total: 9643200\n"
     ]
    },
    {
     "name": "stderr",
     "output_type": "stream",
     "text": [
      "\n"
     ]
    }
   ],
   "source": [
    "sample_dir = '/data/cow-tus-data/raw/exams/OR3785/'\n",
    "\n",
    "videos_1 = []\n",
    "for config in configs:\n",
    "    video = process_loops(sample_dir, size=config['size'], skip=config['skip'])\n",
    "    videos_1.append(video)\n",
    "    print('Shape:', video.shape)\n",
    "    print('Total:', np.prod(video.shape))"
   ]
  },
  {
   "cell_type": "code",
   "execution_count": 66,
   "metadata": {},
   "outputs": [],
   "source": [
    "anim = play(videos_1[0])\n",
    "HTML(anim.to_html5_video())"
   ]
  },
  {
   "cell_type": "code",
   "execution_count": null,
   "metadata": {},
   "outputs": [],
   "source": [
    "anim = play(videos_1[1])\n",
    "HTML(anim.to_html5_video()) "
   ]
  },
  {
   "cell_type": "markdown",
   "metadata": {},
   "source": [
    "## Middle Example (2 label)"
   ]
  },
  {
   "cell_type": "code",
   "execution_count": null,
   "metadata": {},
   "outputs": [],
   "source": [
    "sample_dir = '/data/cow-tus-data/raw/exams/TN4236/'\n",
    "videos_2 = []\n",
    "for config in configs:\n",
    "    video = process_loops(sample_dir, size=config['size'], skip=config['skip'])\n",
    "    videos_2.append(video)”\n",
    "    print('Shape:', video.shape)\n",
    "    print('Total:', np.prod(video.shape))"
   ]
  },
  {
   "cell_type": "code",
   "execution_count": null,
   "metadata": {},
   "outputs": [],
   "source": [
    "anim = play(videos_2[0])\n",
    "HTML(anim.to_html5_video())"
   ]
  },
  {
   "cell_type": "code",
   "execution_count": null,
   "metadata": {},
   "outputs": [],
   "source": [
    "anim = play(videos_2[1])\n",
    "HTML(anim.to_html5_video())"
   ]
  },
  {
   "cell_type": "code",
   "execution_count": 10,
   "metadata": {},
   "outputs": [],
   "source": [
    "data_dir = '/data/cow-tus-data/raw/'\n",
    "# for sample_dir in tqdm(os.listdir(data_dir)):\n",
    "#     sample = os.listdir(os.path.join(data_dir, sample_dir))[0]\n",
    "#     video = process_loop(os.path.join(data_dir, sample_dir, sample))\n",
    "#     shapes.append(os.path.join(data_dir, sample_dir, sample))\n",
    "#     print(video.shape)"
   ]
  },
  {
   "cell_type": "code",
   "execution_count": null,
   "metadata": {},
   "outputs": [],
   "source": []
  },
  {
   "cell_type": "code",
   "execution_count": 39,
   "metadata": {},
   "outputs": [],
   "source": [
    "patient_df = pd.read_csv(os.path.join(data_dir, 'labels.csv'))"
   ]
  },
  {
   "cell_type": "code",
   "execution_count": 21,
   "metadata": {},
   "outputs": [
    {
     "data": {
      "text/plain": [
       "86"
      ]
     },
     "execution_count": 21,
     "metadata": {},
     "output_type": "execute_result"
    }
   ],
   "source": [
    "len(patient_df['Animal Number'].unique())"
   ]
  },
  {
   "cell_type": "code",
   "execution_count": 32,
   "metadata": {},
   "outputs": [
    {
     "data": {
      "text/plain": [
       "10"
      ]
     },
     "execution_count": 32,
     "metadata": {},
     "output_type": "execute_result"
    }
   ],
   "source": [
    "len(patient_df['Tag Color'].unique())"
   ]
  },
  {
   "cell_type": "code",
   "execution_count": 23,
   "metadata": {},
   "outputs": [
    {
     "data": {
      "text/plain": [
       "89"
      ]
     },
     "execution_count": 23,
     "metadata": {},
     "output_type": "execute_result"
    }
   ],
   "source": [
    "len(patient_df)"
   ]
  },
  {
   "cell_type": "code",
   "execution_count": 31,
   "metadata": {},
   "outputs": [
    {
     "data": {
      "text/html": [
       "<div>\n",
       "<style scoped>\n",
       "    .dataframe tbody tr th:only-of-type {\n",
       "        vertical-align: middle;\n",
       "    }\n",
       "\n",
       "    .dataframe tbody tr th {\n",
       "        vertical-align: top;\n",
       "    }\n",
       "\n",
       "    .dataframe thead th {\n",
       "        text-align: right;\n",
       "    }\n",
       "</style>\n",
       "<table border=\"1\" class=\"dataframe\">\n",
       "  <thead>\n",
       "    <tr style=\"text-align: right;\">\n",
       "      <th></th>\n",
       "      <th>Tag Color</th>\n",
       "      <th>Animal Number</th>\n",
       "      <th>ID #</th>\n",
       "      <th>Date enrolled</th>\n",
       "      <th>TUS score</th>\n",
       "      <th>Comments</th>\n",
       "    </tr>\n",
       "  </thead>\n",
       "  <tbody>\n",
       "    <tr>\n",
       "      <th>52</th>\n",
       "      <td>WT</td>\n",
       "      <td>4493</td>\n",
       "      <td>WT4493</td>\n",
       "      <td>2015-07-20</td>\n",
       "      <td>4</td>\n",
       "      <td>NaN</td>\n",
       "    </tr>\n",
       "    <tr>\n",
       "      <th>55</th>\n",
       "      <td>GN</td>\n",
       "      <td>4493</td>\n",
       "      <td>GN4493</td>\n",
       "      <td>2015-07-21</td>\n",
       "      <td>2</td>\n",
       "      <td>NaN</td>\n",
       "    </tr>\n",
       "  </tbody>\n",
       "</table>\n",
       "</div>"
      ],
      "text/plain": [
       "   Tag Color  Animal Number    ID # Date enrolled TUS score Comments\n",
       "52        WT           4493  WT4493    2015-07-20         4      NaN\n",
       "55        GN           4493  GN4493    2015-07-21         2      NaN"
      ]
     },
     "execution_count": 31,
     "metadata": {},
     "output_type": "execute_result"
    }
   ],
   "source": [
    "patient_df.loc[patient_df['Animal Number'] == 4493]"
   ]
  },
  {
   "cell_type": "code",
   "execution_count": 81,
   "metadata": {},
   "outputs": [],
   "source": [
    "# t = time()\n",
    "# exam_dir = '/data/cow-tus-data/raw/exams/OR3785/'\n",
    "# video = skvideo.io.vread(os.path.join(exam_dir, '3785L7.AVI'))\n",
    "# d, h, w, c = video.shape\n",
    "# print(video.shape)\n",
    "# out = np.zeros((d, h, w))\n",
    "# for i, frame in enumerate(video):\n",
    "#     out[i] = cv2.cvtColor(frame, cv2.COLOR_RGB2GRAY)\n",
    "# print(t - time())\n",
    "# anim = play(out)\n",
    "# HTML(anim.to_html5_video())"
   ]
  },
  {
   "cell_type": "code",
   "execution_count": 82,
   "metadata": {},
   "outputs": [],
   "source": [
    "# t = time()\n",
    "# exam_dir = '/data/cow-tus-data/raw/exams/OR3785/'\n",
    "# video = skvideo.io.vread(os.path.join(exam_dir, '3785L7.AVI'))\n",
    "# video = video[:, :, :, 0]\n",
    "# print(t - time())\n",
    "# anim = play(video)\n",
    "# HTML(anim.to_html5_video())"
   ]
  },
  {
   "cell_type": "code",
   "execution_count": null,
   "metadata": {},
   "outputs": [],
   "source": []
  }
 ],
 "metadata": {
  "kernelspec": {
   "display_name": "Python 3",
   "language": "python",
   "name": "python3"
  },
  "language_info": {
   "codemirror_mode": {
    "name": "ipython",
    "version": 3
   },
   "file_extension": ".py",
   "mimetype": "text/x-python",
   "name": "python",
   "nbconvert_exporter": "python",
   "pygments_lexer": "ipython3",
   "version": "3.7.3"
  }
 },
 "nbformat": 4,
 "nbformat_minor": 4
}
