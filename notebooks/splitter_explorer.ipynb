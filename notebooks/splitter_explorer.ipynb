{
 "cells": [
  {
   "cell_type": "code",
   "execution_count": 18,
   "metadata": {},
   "outputs": [
    {
     "name": "stdout",
     "output_type": "stream",
     "text": [
      "The autoreload extension is already loaded. To reload it, use:\n",
      "  %reload_ext autoreload\n"
     ]
    }
   ],
   "source": [
    "%load_ext autoreload\n",
    "%autoreload 2\n",
    "%matplotlib inline\n",
    "\n",
    "import os\n",
    "import os.path as path\n",
    "import random\n",
    "from IPython.display import HTML\n",
    "from collections import Counter\n",
    "\n",
    "import exdir\n",
    "import numpy as np\n",
    "import pandas as pd\n",
    "from tqdm import tqdm\n",
    "import skvideo\n",
    "import yaml\n",
    "\n",
    "os.chdir('/home/Gangus/cow-tus')"
   ]
  },
  {
   "cell_type": "code",
   "execution_count": 4,
   "metadata": {},
   "outputs": [],
   "source": [
    "data_dir = 'data/single-instance-learning/temporal-downsample'\n",
    "\n",
    "hypothesis_conditions = ['by-animal-number', 'hold-out-validation']\n",
    "group_dir = path.join('data', 'split', *hypothesis_conditions)\n",
    "\n",
    "split_counts = {\n",
    "    'test': 15,\n",
    "    'valid': 15,\n",
    "    'train': -1\n",
    "}"
   ]
  },
  {
   "cell_type": "code",
   "execution_count": 24,
   "metadata": {},
   "outputs": [
    {
     "data": {
      "text/plain": [
       "86"
      ]
     },
     "execution_count": 24,
     "metadata": {},
     "output_type": "execute_result"
    }
   ],
   "source": [
    "attrs_path = path.join(data_dir, 'attrs.csv')\n",
    "attrs_df = pd.read_csv(attrs_path, index_col=2)\n"
   ]
  },
  {
   "cell_type": "code",
   "execution_count": 25,
   "metadata": {},
   "outputs": [],
   "source": [
    "raw_attrs_df = pd.read_csv(path.join(\"/data/cow-tus-data/raw\", 'labels.csv'))"
   ]
  },
  {
   "cell_type": "code",
   "execution_count": 30,
   "metadata": {},
   "outputs": [
    {
     "data": {
      "text/plain": [
       "{'CH4815', 'WT4493', 'YW4426'}"
      ]
     },
     "execution_count": 30,
     "metadata": {},
     "output_type": "execute_result"
    }
   ],
   "source": [
    "set(raw_attrs_df['id']).symmetric_difference(attrs_df['exdir.exam_id'])"
   ]
  },
  {
   "cell_type": "code",
   "execution_count": null,
   "metadata": {},
   "outputs": [],
   "source": []
  }
 ],
 "metadata": {
  "kernelspec": {
   "display_name": "Python 3",
   "language": "python",
   "name": "python3"
  },
  "language_info": {
   "codemirror_mode": {
    "name": "ipython",
    "version": 3
   },
   "file_extension": ".py",
   "mimetype": "text/x-python",
   "name": "python",
   "nbconvert_exporter": "python",
   "pygments_lexer": "ipython3",
   "version": "3.7.3"
  }
 },
 "nbformat": 4,
 "nbformat_minor": 4
}
