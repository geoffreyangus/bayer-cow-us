{
 "cells": [
  {
   "cell_type": "code",
   "execution_count": 20,
   "metadata": {},
   "outputs": [],
   "source": [
    "import random\n",
    "\n",
    "import exdir\n",
    "import numpy as np"
   ]
  },
  {
   "cell_type": "code",
   "execution_count": 21,
   "metadata": {},
   "outputs": [],
   "source": [
    "file = exdir.File(\"mytestfile.exdir\")"
   ]
  },
  {
   "cell_type": "code",
   "execution_count": 36,
   "metadata": {},
   "outputs": [
    {
     "data": {
      "text/html": [
       "<style>\n",
       ".collapsibleList li{\n",
       "    list-style-type : none;\n",
       "    cursor           : auto;\n",
       "}\n",
       "\n",
       "li.collapsibleListOpen{\n",
       "    list-style-type : circle;\n",
       "    cursor           : pointer;\n",
       "}\n",
       "\n",
       "li.collapsibleListClosed{\n",
       "    list-style-type : disc;\n",
       "    cursor           : pointer;\n",
       "}\n",
       "    </style><ul id='926b3b12-f5f1-11e9-b2bd-38d547abbf55' class='collapsibleList'><li>test (Group)</li></ul><script>\n",
       "    var node = document.getElementById('926b3b12-f5f1-11e9-b2bd-38d547abbf55');\n",
       "    exdir.CollapsibleLists.applyTo(node);\n",
       "    </script>"
      ],
      "text/plain": [
       "<Exdir Group 'mytestfile.exdir/unprocessed/test' (mode a)>"
      ]
     },
     "execution_count": 36,
     "metadata": {},
     "output_type": "execute_result"
    }
   ],
   "source": [
    "main_dataset = file['unprocessed']\n",
    "main_dataset.create_group('train')\n",
    "main_dataset.create_group('valid')\n",
    "main_dataset.create_group('test')"
   ]
  },
  {
   "cell_type": "code",
   "execution_count": 40,
   "metadata": {},
   "outputs": [],
   "source": [
    "splits = list(dataset.keys())\n",
    "for split in splits:\n",
    "    split_dataset = main_dataset[split]\n",
    "    for i in range(9):\n",
    "        exam_id = f'LD{random.randint(0, 10)}{random.randint(0, 10)}'\n",
    "        if exam_id in split_dataset:\n",
    "            while exam_id in split_dataset:\n",
    "                exam_id = f'LD{random.randint(0, 10)}{random.randint(0, 10)}'\n",
    "        else:\n",
    "            dset = split_dataset.create_dataset(exam_id, data=np.random.rand(7,4,5))\n",
    "            dset.attrs = {\n",
    "                'exam_id': exam_id,\n",
    "                'label': random.randint(0, 2)\n",
    "            }"
   ]
  },
  {
   "cell_type": "code",
   "execution_count": 41,
   "metadata": {},
   "outputs": [
    {
     "data": {
      "text/html": [
       "<style>\n",
       ".collapsibleList li{\n",
       "    list-style-type : none;\n",
       "    cursor           : auto;\n",
       "}\n",
       "\n",
       "li.collapsibleListOpen{\n",
       "    list-style-type : circle;\n",
       "    cursor           : pointer;\n",
       "}\n",
       "\n",
       "li.collapsibleListClosed{\n",
       "    list-style-type : disc;\n",
       "    cursor           : pointer;\n",
       "}\n",
       "    </style><ul id='a7217120-f5f1-11e9-b2bd-38d547abbf55' class='collapsibleList'><li>unprocessed (Group)<ul><li>test (Group)<ul><li>LD01 (Dataset)<ul><li>Shape: (7, 4, 5)</li><li>Type: float64</li></ul></li><li>LD06 (Dataset)<ul><li>Shape: (7, 4, 5)</li><li>Type: float64</li></ul></li><li>LD07 (Dataset)<ul><li>Shape: (7, 4, 5)</li><li>Type: float64</li></ul></li><li>LD08 (Dataset)<ul><li>Shape: (7, 4, 5)</li><li>Type: float64</li></ul></li><li>LD09 (Dataset)<ul><li>Shape: (7, 4, 5)</li><li>Type: float64</li></ul></li><li>LD108 (Dataset)<ul><li>Shape: (7, 4, 5)</li><li>Type: float64</li></ul></li><li>LD13 (Dataset)<ul><li>Shape: (7, 4, 5)</li><li>Type: float64</li></ul></li><li>LD15 (Dataset)<ul><li>Shape: (7, 4, 5)</li><li>Type: float64</li></ul></li><li>LD30 (Dataset)<ul><li>Shape: (7, 4, 5)</li><li>Type: float64</li></ul></li><li>LD31 (Dataset)<ul><li>Shape: (7, 4, 5)</li><li>Type: float64</li></ul></li><li>LD34 (Dataset)<ul><li>Shape: (7, 4, 5)</li><li>Type: float64</li></ul></li><li>LD37 (Dataset)<ul><li>Shape: (7, 4, 5)</li><li>Type: float64</li></ul></li><li>LD40 (Dataset)<ul><li>Shape: (7, 4, 5)</li><li>Type: float64</li></ul></li><li>LD42 (Dataset)<ul><li>Shape: (7, 4, 5)</li><li>Type: float64</li></ul></li><li>LD55 (Dataset)<ul><li>Shape: (7, 4, 5)</li><li>Type: float64</li></ul></li><li>LD72 (Dataset)<ul><li>Shape: (7, 4, 5)</li><li>Type: float64</li></ul></li><li>LD87 (Dataset)<ul><li>Shape: (7, 4, 5)</li><li>Type: float64</li></ul></li><li>LD93 (Dataset)<ul><li>Shape: (7, 4, 5)</li><li>Type: float64</li></ul></li></ul></li><li>train (Group)<ul><li>LD01 (Dataset)<ul><li>Shape: (7, 4, 5)</li><li>Type: float64</li></ul></li><li>LD02 (Dataset)<ul><li>Shape: (7, 4, 5)</li><li>Type: float64</li></ul></li><li>LD06 (Dataset)<ul><li>Shape: (7, 4, 5)</li><li>Type: float64</li></ul></li><li>LD110 (Dataset)<ul><li>Shape: (7, 4, 5)</li><li>Type: float64</li></ul></li><li>LD18 (Dataset)<ul><li>Shape: (7, 4, 5)</li><li>Type: float64</li></ul></li><li>LD30 (Dataset)<ul><li>Shape: (7, 4, 5)</li><li>Type: float64</li></ul></li><li>LD39 (Dataset)<ul><li>Shape: (7, 4, 5)</li><li>Type: float64</li></ul></li><li>LD52 (Dataset)<ul><li>Shape: (7, 4, 5)</li><li>Type: float64</li></ul></li><li>LD80 (Dataset)<ul><li>Shape: (7, 4, 5)</li><li>Type: float64</li></ul></li><li>LD86 (Dataset)<ul><li>Shape: (7, 4, 5)</li><li>Type: float64</li></ul></li></ul></li><li>valid (Group)<ul><li>LD103 (Dataset)<ul><li>Shape: (7, 4, 5)</li><li>Type: float64</li></ul></li><li>LD15 (Dataset)<ul><li>Shape: (7, 4, 5)</li><li>Type: float64</li></ul></li><li>LD17 (Dataset)<ul><li>Shape: (7, 4, 5)</li><li>Type: float64</li></ul></li><li>LD19 (Dataset)<ul><li>Shape: (7, 4, 5)</li><li>Type: float64</li></ul></li><li>LD42 (Dataset)<ul><li>Shape: (7, 4, 5)</li><li>Type: float64</li></ul></li><li>LD47 (Dataset)<ul><li>Shape: (7, 4, 5)</li><li>Type: float64</li></ul></li><li>LD74 (Dataset)<ul><li>Shape: (7, 4, 5)</li><li>Type: float64</li></ul></li><li>LD81 (Dataset)<ul><li>Shape: (7, 4, 5)</li><li>Type: float64</li></ul></li><li>LD92 (Dataset)<ul><li>Shape: (7, 4, 5)</li><li>Type: float64</li></ul></li><li>LD95 (Dataset)<ul><li>Shape: (7, 4, 5)</li><li>Type: float64</li></ul></li></ul></li></ul></li></ul><script>\n",
       "    var node = document.getElementById('a7217120-f5f1-11e9-b2bd-38d547abbf55');\n",
       "    exdir.CollapsibleLists.applyTo(node);\n",
       "    </script>"
      ],
      "text/plain": [
       "<Exdir Group 'mytestfile.exdir/unprocessed' (mode a)>"
      ]
     },
     "execution_count": 41,
     "metadata": {},
     "output_type": "execute_result"
    }
   ],
   "source": [
    "main_dataset"
   ]
  },
  {
   "cell_type": "code",
   "execution_count": null,
   "metadata": {},
   "outputs": [],
   "source": []
  }
 ],
 "metadata": {
  "kernelspec": {
   "display_name": "Python 3",
   "language": "python",
   "name": "python3"
  },
  "language_info": {
   "codemirror_mode": {
    "name": "ipython",
    "version": 3
   },
   "file_extension": ".py",
   "mimetype": "text/x-python",
   "name": "python",
   "nbconvert_exporter": "python",
   "pygments_lexer": "ipython3",
   "version": "3.7.3"
  }
 },
 "nbformat": 4,
 "nbformat_minor": 4
}
