{
 "cells": [
  {
   "cell_type": "code",
   "execution_count": 3,
   "metadata": {},
   "outputs": [
    {
     "name": "stdout",
     "output_type": "stream",
     "text": [
      "The autoreload extension is already loaded. To reload it, use:\n",
      "  %reload_ext autoreload\n"
     ]
    }
   ],
   "source": [
    "%load_ext autoreload\n",
    "%autoreload 2\n",
    "%matplotlib inline\n",
    "\n",
    "import os\n",
    "import os.path as path\n",
    "import random\n",
    "from IPython.display import HTML\n",
    "\n",
    "import exdir\n",
    "import numpy as np\n",
    "import pandas as pd\n",
    "from tqdm import tqdm\n",
    "import skvideo\n",
    "import yaml\n",
    "\n",
    "from cow_tus.analysis.visualizations.viewer import play\n",
    "import cow_tus.data.transforms as transforms\n",
    "\n",
    "os.chdir('/home/gangus/cow-tus')"
   ]
  },
  {
   "cell_type": "code",
   "execution_count": 39,
   "metadata": {},
   "outputs": [],
   "source": [
    "raw_dir = \"/data4/cow-tus-data/raw\"\n",
    "out_dir = \"/data4/cow-tus-data/processed\"\n",
    "\n",
    "hypothesis_conditions = ['single-instance-learning', 'temporal-downsample']\n",
    "group_dir = path.join('data', *hypothesis_conditions)"
   ]
  },
  {
   "cell_type": "code",
   "execution_count": 40,
   "metadata": {},
   "outputs": [],
   "source": [
    "f = exdir.File('/data4/cow-tus-data/processed.exdir')\n",
    "root_group = f['/'.join(hypothesis_conditions)]"
   ]
  },
  {
   "cell_type": "code",
   "execution_count": 47,
   "metadata": {},
   "outputs": [],
   "source": [
    "columns = pd.read_csv(path.join(raw_dir, 'labels_instance_level.csv')).keys()\n",
    "raw_instance_level_df = pd.read_excel(path.join(raw_dir, 'labels_instance_full.xlsx'))\n",
    "raw_instance_level_df.columns = columns\n",
    "raw_instance_level_df.to_csv(path.join(raw_dir, 'labels_instance_full.csv'), index=False)"
   ]
  },
  {
   "cell_type": "code",
   "execution_count": 42,
   "metadata": {},
   "outputs": [
    {
     "name": "stdout",
     "output_type": "stream",
     "text": [
      "File L77 should be L7 ['GN4487']\n",
      "I did not rate the file named RV4 ['GN4521']\n",
      "I only have 1 clip here - did I miss something in the copy? ['CH4737', 'CH4838']\n",
      "Is this file missing? ['OR4205', 'WT4493']\n",
      "Missing L6 ['WT5167', 'OR4691']\n",
      "Missing L7 ['TN5025']\n",
      "Missing R5 ['OR5175']\n",
      "Missing an R4 ['GY4168']\n",
      "Notice mistake in naming videofile. R44 should be R4 ['TN4236']\n",
      "Notice that one file ending on L, should be named L5 ['TN4307']\n",
      "Notice that one file ending on L, should be named LV ['TQ4042']\n",
      "R6 is named R66 ['CH4732']\n",
      "Sickest cow I have ever seen ['GN4867']\n",
      "Their labeling of 3 is actually incorrect ['PK4450']\n",
      "Use L5 2nd, missing RV ['TN5021']\n",
      "Use L6 (not L6.2 - my computer says that file is broken) ['WT4485']\n",
      "Use R5.3. Also R6 incorrectly called R66 ['CH4837']\n",
      "Use the R6REAL ['TN3875']\n",
      "Use the the RV (not the RV2ND) ['CH4307']\n"
     ]
    }
   ],
   "source": [
    "notes_groups = raw_instance_level_df.groupby('notes')\n",
    "for note, note_group in notes_groups:\n",
    "    print(note, list(note_group['id']))"
   ]
  },
  {
   "cell_type": "code",
   "execution_count": 43,
   "metadata": {},
   "outputs": [
    {
     "data": {
      "text/plain": [
       "['5021L5',\n",
       " '5021L5.2ND',\n",
       " '5021L6',\n",
       " '5021L7',\n",
       " '5021LV',\n",
       " '5021R4',\n",
       " '5021R5',\n",
       " '5021R6']"
      ]
     },
     "execution_count": 43,
     "metadata": {},
     "output_type": "execute_result"
    }
   ],
   "source": [
    "list(root_group['TN5021'].keys())"
   ]
  },
  {
   "cell_type": "code",
   "execution_count": 44,
   "metadata": {},
   "outputs": [],
   "source": [
    "def update_group(exam_id, old_loop_id, new_loop_id):\n",
    "    root_group[exam_id][new_loop_id] = root_group[exam_id][old_loop_id]\n",
    "    root_group[exam_id][new_loop_id].attrs.update(root_group[exam_id][old_loop_id].attrs)\n",
    "    root_group[exam_id][old_loop_id].attrs.update({\n",
    "        'exdir.corrupted_id': True\n",
    "    })"
   ]
  },
  {
   "cell_type": "code",
   "execution_count": 45,
   "metadata": {},
   "outputs": [],
   "source": [
    "update_group('TN5021', '5021L5.2ND', '5021L5')"
   ]
  },
  {
   "cell_type": "code",
   "execution_count": 54,
   "metadata": {},
   "outputs": [],
   "source": [
    "update_group('GN4487', '44887RV', '4487RV')"
   ]
  },
  {
   "cell_type": "code",
   "execution_count": 55,
   "metadata": {},
   "outputs": [],
   "source": [
    "update_group('GN4487', '487L6', '4487L6')"
   ]
  },
  {
   "cell_type": "code",
   "execution_count": 56,
   "metadata": {},
   "outputs": [],
   "source": [
    "update_group('GN4487', '487L77', '4487L7')"
   ]
  },
  {
   "cell_type": "code",
   "execution_count": 57,
   "metadata": {},
   "outputs": [
    {
     "data": {
      "text/plain": [
       "['4521L5',\n",
       " '4521L6',\n",
       " '4521L7',\n",
       " '4521LV',\n",
       " '4521R4',\n",
       " '4521R5',\n",
       " '4521R6',\n",
       " '4521RV4',\n",
       " '4521VRV']"
      ]
     },
     "execution_count": 57,
     "metadata": {},
     "output_type": "execute_result"
    }
   ],
   "source": [
    "list(root_group['GN4521'].keys())"
   ]
  },
  {
   "cell_type": "code",
   "execution_count": 58,
   "metadata": {},
   "outputs": [],
   "source": [
    "update_group(exam_id='GN4521', old_loop_id='4521VRV', new_loop_id='4521RV')"
   ]
  },
  {
   "cell_type": "code",
   "execution_count": 59,
   "metadata": {},
   "outputs": [],
   "source": [
    "update_group(exam_id='GN4521', old_loop_id='4521RV4', new_loop_id='4521RV4')"
   ]
  },
  {
   "cell_type": "code",
   "execution_count": 63,
   "metadata": {},
   "outputs": [
    {
     "data": {
      "text/plain": [
       "['4236L5',\n",
       " '4236L6',\n",
       " '4236L7',\n",
       " '4236LV',\n",
       " '4236R4',\n",
       " '4236R44',\n",
       " '4236R5',\n",
       " '4236R6',\n",
       " '4236RV']"
      ]
     },
     "execution_count": 63,
     "metadata": {},
     "output_type": "execute_result"
    }
   ],
   "source": [
    "list(root_group['TN4236'].keys())"
   ]
  },
  {
   "cell_type": "code",
   "execution_count": 62,
   "metadata": {},
   "outputs": [],
   "source": [
    "update_group(exam_id='TN4236', old_loop_id='4236R44', new_loop_id='4236R4')"
   ]
  },
  {
   "cell_type": "code",
   "execution_count": 64,
   "metadata": {},
   "outputs": [
    {
     "data": {
      "text/plain": [
       "['4307L', '4307L6', '4307L7', '4307LV', '4307R4', '4307R5', '4307R6', '4307RV']"
      ]
     },
     "execution_count": 64,
     "metadata": {},
     "output_type": "execute_result"
    }
   ],
   "source": [
    "list(root_group['TN4307'].keys())"
   ]
  },
  {
   "cell_type": "code",
   "execution_count": 65,
   "metadata": {},
   "outputs": [],
   "source": [
    "update_group(exam_id='TN4307', old_loop_id='4307L', new_loop_id='4307L5')"
   ]
  },
  {
   "cell_type": "code",
   "execution_count": 66,
   "metadata": {},
   "outputs": [
    {
     "data": {
      "text/plain": [
       "['4042L', '4042L5', '4042L6', '4042R4', '4042R5', '4042R6', '4042RV', '4043L7']"
      ]
     },
     "execution_count": 66,
     "metadata": {},
     "output_type": "execute_result"
    }
   ],
   "source": [
    "list(root_group['TQ4042'].keys())"
   ]
  },
  {
   "cell_type": "code",
   "execution_count": 67,
   "metadata": {},
   "outputs": [],
   "source": [
    "update_group(exam_id='TQ4042', old_loop_id='4042L', new_loop_id='4042LV')"
   ]
  },
  {
   "cell_type": "code",
   "execution_count": 92,
   "metadata": {},
   "outputs": [],
   "source": [
    "attrs_df = pd.read_csv('data/single-instance-learning/temporal-downsample/attrs.csv', index_col=0)"
   ]
  },
  {
   "cell_type": "code",
   "execution_count": 90,
   "metadata": {},
   "outputs": [
    {
     "name": "stderr",
     "output_type": "stream",
     "text": [
      "100%|██████████| 673/673 [00:03<00:00, 200.10it/s]\n",
      "100%|██████████| 9/9 [00:00<00:00, 159.54it/s]\n"
     ]
    }
   ],
   "source": [
    "# loop_paths = attrs_df['exdir.loop_path']\n",
    "# exams = {}\n",
    "# for loop_path in tqdm(loop_paths):\n",
    "#     with open(path.join(loop_path, 'attributes.yaml'), 'r') as f:\n",
    "#         try:\n",
    "#             d = yaml.safe_load(f)\n",
    "#             if 'processed.corrupted_id' in d:\n",
    "#                 del d['processed.corrupted_id']\n",
    "#                 d['exdir.corrupted_id'] = True\n",
    "#                 exams[d['exdir.loop_path']] = d\n",
    "#         except yaml.YAMLError as exc:\n",
    "#             print(exc)\n",
    "# for loop_path, d in tqdm(exams.items()):\n",
    "#     with open(path.join(loop_path, 'attributes.yaml'), 'w') as f:\n",
    "#         f.write(yaml.dump(d))"
   ]
  },
  {
   "cell_type": "code",
   "execution_count": 93,
   "metadata": {},
   "outputs": [
    {
     "name": "stdout",
     "output_type": "stream",
     "text": [
      "/data/cow-tus-data/processed.exdir/single-instance-learning/temporal-downsample/TN4236/4236R44\n",
      "/data/cow-tus-data/processed.exdir/single-instance-learning/temporal-downsample/TQ4042/4042L\n",
      "/data/cow-tus-data/processed.exdir/single-instance-learning/temporal-downsample/TN4307/4307L\n",
      "/data/cow-tus-data/processed.exdir/single-instance-learning/temporal-downsample/GN4521/4521RV4\n",
      "/data/cow-tus-data/processed.exdir/single-instance-learning/temporal-downsample/GN4521/4521VRV\n",
      "/data/cow-tus-data/processed.exdir/single-instance-learning/temporal-downsample/GN4487/44787L5\n",
      "/data/cow-tus-data/processed.exdir/single-instance-learning/temporal-downsample/GN4487/44887RV\n",
      "/data/cow-tus-data/processed.exdir/single-instance-learning/temporal-downsample/GN4487/487L6\n",
      "/data/cow-tus-data/processed.exdir/single-instance-learning/temporal-downsample/GN4487/487L77\n"
     ]
    }
   ],
   "source": [
    "corrupted_groups = attrs_df.groupby('processed.corrupted_id')\n",
    "for corrupt, corrupted_group in corrupted_groups:\n",
    "    for idx, corrupted_loop in corrupted_group.iterrows():\n",
    "        print(corrupted_loop['exdir.loop_path'])"
   ]
  },
  {
   "cell_type": "code",
   "execution_count": null,
   "metadata": {},
   "outputs": [],
   "source": []
  }
 ],
 "metadata": {
  "kernelspec": {
   "display_name": "Python 3",
   "language": "python",
   "name": "python3"
  },
  "language_info": {
   "codemirror_mode": {
    "name": "ipython",
    "version": 3
   },
   "file_extension": ".py",
   "mimetype": "text/x-python",
   "name": "python",
   "nbconvert_exporter": "python",
   "pygments_lexer": "ipython3",
   "version": "3.7.4"
  }
 },
 "nbformat": 4,
 "nbformat_minor": 4
}
