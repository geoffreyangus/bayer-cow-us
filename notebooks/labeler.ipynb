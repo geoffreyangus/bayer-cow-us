{
 "cells": [
  {
   "cell_type": "code",
   "execution_count": 14,
   "metadata": {},
   "outputs": [
    {
     "name": "stdout",
     "output_type": "stream",
     "text": [
      "The autoreload extension is already loaded. To reload it, use:\n",
      "  %reload_ext autoreload\n"
     ]
    }
   ],
   "source": [
    "%load_ext autoreload\n",
    "%autoreload 2\n",
    "\n",
    "from collections import defaultdict\n",
    "\n",
    "import os\n",
    "import os.path as path\n",
    "\n",
    "import pandas as pd\n",
    "\n",
    "\n",
    "os.chdir('/home/Gangus/cow-tus')"
   ]
  },
  {
   "cell_type": "code",
   "execution_count": 11,
   "metadata": {},
   "outputs": [
    {
     "data": {
      "text/plain": [
       "Index(['raw.tag_color', 'raw.animal_number', 'raw.id', 'raw.date_enrolled',\n",
       "       'raw.tus_score', 'raw.comments', 'raw.l5', 'raw.l6', 'raw.l7', 'raw.lv',\n",
       "       'raw.r4', 'raw.r5', 'raw.r6', 'raw.rv', 'raw.notes', 'raw.exam_path',\n",
       "       'exdir.exam_path', 'label.global_binary_label',\n",
       "       'label.global_multiclass_label', 'label.l5', 'label.l6', 'label.l7',\n",
       "       'label.lv', 'label.r4', 'label.r5', 'label.r6', 'label.rv',\n",
       "       'raw.loop_path', 'raw.loop_shape', 'exdir.loop_id', 'exdir.loop_type',\n",
       "       'exdir.loop_path', 'exdir.loop_data_path', 'exdir.loop_shape',\n",
       "       'label.instance_binary_label', 'label.instance_multiclass_label'],\n",
       "      dtype='object')"
      ]
     },
     "execution_count": 11,
     "metadata": {},
     "output_type": "execute_result"
    }
   ],
   "source": [
    "attrs_df = pd.read_csv('data/single-instance-learning/temporal-downsample/attrs.csv', index_col=0)\n",
    "attrs_df.keys()"
   ]
  },
  {
   "cell_type": "code",
   "execution_count": 23,
   "metadata": {},
   "outputs": [],
   "source": [
    "task_to_label_src = {\n",
    "    'primary': 'label.global_binary_label',\n",
    "    'primary_multiclass': 'label.global_multiclass_label'\n",
    "}\n",
    "task_to_cardinality = {}\n",
    "for task, label_src in task_to_label_src.items():\n",
    "    task_to_cardinality[task] = attrs_df[label_src].max() + 1"
   ]
  },
  {
   "cell_type": "code",
   "execution_count": 33,
   "metadata": {},
   "outputs": [],
   "source": [
    "data = defaultdict(list)\n",
    "exam_ids = []\n",
    "for exam_id, row in attrs_df.iterrows():\n",
    "    exam_ids.append(exam_id)\n",
    "    index.append(exam_id)\n",
    "    for task, label_src in task_to_label_src.items():\n",
    "        label_idx = row[label_src]\n",
    "        for k in range(task_to_cardinality[task]):\n",
    "            if k == label_idx:\n",
    "                data[(task, k)].append(1.0)\n",
    "            else:\n",
    "                data[(task, k)].append(0.0)"
   ]
  },
  {
   "cell_type": "code",
   "execution_count": 35,
   "metadata": {},
   "outputs": [],
   "source": [
    "labels_df = pd.DataFrame(data, index=exam_ids)\n",
    "labels_df.to_csv('data/labels/globals.csv')"
   ]
  },
  {
   "cell_type": "code",
   "execution_count": 37,
   "metadata": {},
   "outputs": [
    {
     "data": {
      "text/html": [
       "<div>\n",
       "<style scoped>\n",
       "    .dataframe tbody tr th:only-of-type {\n",
       "        vertical-align: middle;\n",
       "    }\n",
       "\n",
       "    .dataframe tbody tr th {\n",
       "        vertical-align: top;\n",
       "    }\n",
       "\n",
       "    .dataframe thead tr th {\n",
       "        text-align: left;\n",
       "    }\n",
       "</style>\n",
       "<table border=\"1\" class=\"dataframe\">\n",
       "  <thead>\n",
       "    <tr>\n",
       "      <th></th>\n",
       "      <th colspan=\"2\" halign=\"left\">primary</th>\n",
       "      <th colspan=\"4\" halign=\"left\">primary_multiclass</th>\n",
       "    </tr>\n",
       "    <tr>\n",
       "      <th></th>\n",
       "      <th>0</th>\n",
       "      <th>1</th>\n",
       "      <th>0</th>\n",
       "      <th>1</th>\n",
       "      <th>2</th>\n",
       "      <th>3</th>\n",
       "    </tr>\n",
       "  </thead>\n",
       "  <tbody>\n",
       "    <tr>\n",
       "      <th>CH4208</th>\n",
       "      <td>1.0</td>\n",
       "      <td>0.0</td>\n",
       "      <td>1.0</td>\n",
       "      <td>0.0</td>\n",
       "      <td>0.0</td>\n",
       "      <td>0.0</td>\n",
       "    </tr>\n",
       "    <tr>\n",
       "      <th>CH4208</th>\n",
       "      <td>1.0</td>\n",
       "      <td>0.0</td>\n",
       "      <td>1.0</td>\n",
       "      <td>0.0</td>\n",
       "      <td>0.0</td>\n",
       "      <td>0.0</td>\n",
       "    </tr>\n",
       "    <tr>\n",
       "      <th>CH4208</th>\n",
       "      <td>1.0</td>\n",
       "      <td>0.0</td>\n",
       "      <td>1.0</td>\n",
       "      <td>0.0</td>\n",
       "      <td>0.0</td>\n",
       "      <td>0.0</td>\n",
       "    </tr>\n",
       "    <tr>\n",
       "      <th>CH4208</th>\n",
       "      <td>1.0</td>\n",
       "      <td>0.0</td>\n",
       "      <td>1.0</td>\n",
       "      <td>0.0</td>\n",
       "      <td>0.0</td>\n",
       "      <td>0.0</td>\n",
       "    </tr>\n",
       "    <tr>\n",
       "      <th>CH4208</th>\n",
       "      <td>1.0</td>\n",
       "      <td>0.0</td>\n",
       "      <td>1.0</td>\n",
       "      <td>0.0</td>\n",
       "      <td>0.0</td>\n",
       "      <td>0.0</td>\n",
       "    </tr>\n",
       "    <tr>\n",
       "      <th>CH4208</th>\n",
       "      <td>1.0</td>\n",
       "      <td>0.0</td>\n",
       "      <td>1.0</td>\n",
       "      <td>0.0</td>\n",
       "      <td>0.0</td>\n",
       "      <td>0.0</td>\n",
       "    </tr>\n",
       "    <tr>\n",
       "      <th>CH4208</th>\n",
       "      <td>1.0</td>\n",
       "      <td>0.0</td>\n",
       "      <td>1.0</td>\n",
       "      <td>0.0</td>\n",
       "      <td>0.0</td>\n",
       "      <td>0.0</td>\n",
       "    </tr>\n",
       "    <tr>\n",
       "      <th>CH4208</th>\n",
       "      <td>1.0</td>\n",
       "      <td>0.0</td>\n",
       "      <td>1.0</td>\n",
       "      <td>0.0</td>\n",
       "      <td>0.0</td>\n",
       "      <td>0.0</td>\n",
       "    </tr>\n",
       "  </tbody>\n",
       "</table>\n",
       "</div>"
      ],
      "text/plain": [
       "       primary      primary_multiclass               \n",
       "             0    1                  0    1    2    3\n",
       "CH4208     1.0  0.0                1.0  0.0  0.0  0.0\n",
       "CH4208     1.0  0.0                1.0  0.0  0.0  0.0\n",
       "CH4208     1.0  0.0                1.0  0.0  0.0  0.0\n",
       "CH4208     1.0  0.0                1.0  0.0  0.0  0.0\n",
       "CH4208     1.0  0.0                1.0  0.0  0.0  0.0\n",
       "CH4208     1.0  0.0                1.0  0.0  0.0  0.0\n",
       "CH4208     1.0  0.0                1.0  0.0  0.0  0.0\n",
       "CH4208     1.0  0.0                1.0  0.0  0.0  0.0"
      ]
     },
     "execution_count": 37,
     "metadata": {},
     "output_type": "execute_result"
    }
   ],
   "source": [
    "labels_df.loc['CH4208']"
   ]
  },
  {
   "cell_type": "code",
   "execution_count": null,
   "metadata": {},
   "outputs": [],
   "source": []
  }
 ],
 "metadata": {
  "kernelspec": {
   "display_name": "Python 3",
   "language": "python",
   "name": "python3"
  },
  "language_info": {
   "codemirror_mode": {
    "name": "ipython",
    "version": 3
   },
   "file_extension": ".py",
   "mimetype": "text/x-python",
   "name": "python",
   "nbconvert_exporter": "python",
   "pygments_lexer": "ipython3",
   "version": "3.7.4"
  }
 },
 "nbformat": 4,
 "nbformat_minor": 4
}
