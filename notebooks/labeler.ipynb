{
 "cells": [
  {
   "cell_type": "code",
   "execution_count": 67,
   "metadata": {},
   "outputs": [
    {
     "name": "stdout",
     "output_type": "stream",
     "text": [
      "The autoreload extension is already loaded. To reload it, use:\n",
      "  %reload_ext autoreload\n"
     ]
    }
   ],
   "source": [
    "%load_ext autoreload\n",
    "%autoreload 2\n",
    "\n",
    "from collections import defaultdict\n",
    "\n",
    "import os\n",
    "import os.path as path\n",
    "\n",
    "import numpy as np\n",
    "import pandas as pd\n",
    "\n",
    "\n",
    "os.chdir('/home/gangus/cow-tus')"
   ]
  },
  {
   "cell_type": "markdown",
   "metadata": {},
   "source": [
    "# Globals"
   ]
  },
  {
   "cell_type": "code",
   "execution_count": 68,
   "metadata": {},
   "outputs": [
    {
     "data": {
      "text/plain": [
       "Index(['raw.tag_color', 'raw.animal_number', 'raw.id', 'raw.date_enrolled',\n",
       "       'raw.tus_score', 'raw.comments', 'raw.l5', 'raw.l6', 'raw.l7', 'raw.lv',\n",
       "       'raw.r4', 'raw.r5', 'raw.r6', 'raw.rv', 'raw.notes', 'raw.exam_path',\n",
       "       'exdir.exam_path', 'label.global_binary_label',\n",
       "       'label.global_multiclass_label', 'label.l5', 'label.l6', 'label.l7',\n",
       "       'label.lv', 'label.r4', 'label.r5', 'label.r6', 'label.rv',\n",
       "       'raw.loop_path', 'raw.loop_shape', 'exdir.loop_id', 'exdir.loop_type',\n",
       "       'exdir.loop_path', 'exdir.loop_data_path', 'exdir.loop_shape',\n",
       "       'label.instance_binary_label', 'label.instance_multiclass_label',\n",
       "       'exdir.corrupted_id'],\n",
       "      dtype='object')"
      ]
     },
     "execution_count": 68,
     "metadata": {},
     "output_type": "execute_result"
    }
   ],
   "source": [
    "attrs_df = pd.read_csv('data/Q3/all/attrs.csv', index_col=0)\n",
    "attrs_df.keys()"
   ]
  },
  {
   "cell_type": "code",
   "execution_count": 69,
   "metadata": {},
   "outputs": [],
   "source": [
    "task_to_label_src = {\n",
    "    'primary': 'label.global_binary_label',\n",
    "    'primary_multiclass': 'label.global_multiclass_label'\n",
    "}\n",
    "task_to_cardinality = {}\n",
    "for task, label_src in task_to_label_src.items():\n",
    "    task_to_cardinality[task] = attrs_df[label_src].max() + 1"
   ]
  },
  {
   "cell_type": "code",
   "execution_count": 70,
   "metadata": {},
   "outputs": [],
   "source": [
    "data = defaultdict(list)\n",
    "exam_ids = []\n",
    "for exam_id, row in attrs_df.iterrows():\n",
    "    exam_ids.append(exam_id)\n",
    "    for task, label_src in task_to_label_src.items():\n",
    "        label_idx = row[label_src]\n",
    "        for k in range(task_to_cardinality[task]):\n",
    "            if k == label_idx:\n",
    "                data[(task, k)].append(1.0)\n",
    "            else:\n",
    "                data[(task, k)].append(0.0)"
   ]
  },
  {
   "cell_type": "code",
   "execution_count": 71,
   "metadata": {},
   "outputs": [],
   "source": [
    "labels_df = pd.DataFrame(data, index=exam_ids)\n",
    "labels_df.to_csv('data/labels/Q3/globals.csv')"
   ]
  },
  {
   "cell_type": "code",
   "execution_count": 72,
   "metadata": {},
   "outputs": [
    {
     "data": {
      "text/html": [
       "<div>\n",
       "<style scoped>\n",
       "    .dataframe tbody tr th:only-of-type {\n",
       "        vertical-align: middle;\n",
       "    }\n",
       "\n",
       "    .dataframe tbody tr th {\n",
       "        vertical-align: top;\n",
       "    }\n",
       "\n",
       "    .dataframe thead tr th {\n",
       "        text-align: left;\n",
       "    }\n",
       "</style>\n",
       "<table border=\"1\" class=\"dataframe\">\n",
       "  <thead>\n",
       "    <tr>\n",
       "      <th></th>\n",
       "      <th colspan=\"2\" halign=\"left\">primary</th>\n",
       "      <th colspan=\"4\" halign=\"left\">primary_multiclass</th>\n",
       "    </tr>\n",
       "    <tr>\n",
       "      <th></th>\n",
       "      <th>0</th>\n",
       "      <th>1</th>\n",
       "      <th>0</th>\n",
       "      <th>1</th>\n",
       "      <th>2</th>\n",
       "      <th>3</th>\n",
       "    </tr>\n",
       "  </thead>\n",
       "  <tbody>\n",
       "    <tr>\n",
       "      <th>CH4208</th>\n",
       "      <td>1.0</td>\n",
       "      <td>0.0</td>\n",
       "      <td>1.0</td>\n",
       "      <td>0.0</td>\n",
       "      <td>0.0</td>\n",
       "      <td>0.0</td>\n",
       "    </tr>\n",
       "    <tr>\n",
       "      <th>CH4208</th>\n",
       "      <td>1.0</td>\n",
       "      <td>0.0</td>\n",
       "      <td>1.0</td>\n",
       "      <td>0.0</td>\n",
       "      <td>0.0</td>\n",
       "      <td>0.0</td>\n",
       "    </tr>\n",
       "    <tr>\n",
       "      <th>CH4208</th>\n",
       "      <td>1.0</td>\n",
       "      <td>0.0</td>\n",
       "      <td>1.0</td>\n",
       "      <td>0.0</td>\n",
       "      <td>0.0</td>\n",
       "      <td>0.0</td>\n",
       "    </tr>\n",
       "    <tr>\n",
       "      <th>CH4208</th>\n",
       "      <td>1.0</td>\n",
       "      <td>0.0</td>\n",
       "      <td>1.0</td>\n",
       "      <td>0.0</td>\n",
       "      <td>0.0</td>\n",
       "      <td>0.0</td>\n",
       "    </tr>\n",
       "    <tr>\n",
       "      <th>CH4208</th>\n",
       "      <td>1.0</td>\n",
       "      <td>0.0</td>\n",
       "      <td>1.0</td>\n",
       "      <td>0.0</td>\n",
       "      <td>0.0</td>\n",
       "      <td>0.0</td>\n",
       "    </tr>\n",
       "    <tr>\n",
       "      <th>CH4208</th>\n",
       "      <td>1.0</td>\n",
       "      <td>0.0</td>\n",
       "      <td>1.0</td>\n",
       "      <td>0.0</td>\n",
       "      <td>0.0</td>\n",
       "      <td>0.0</td>\n",
       "    </tr>\n",
       "    <tr>\n",
       "      <th>CH4208</th>\n",
       "      <td>1.0</td>\n",
       "      <td>0.0</td>\n",
       "      <td>1.0</td>\n",
       "      <td>0.0</td>\n",
       "      <td>0.0</td>\n",
       "      <td>0.0</td>\n",
       "    </tr>\n",
       "    <tr>\n",
       "      <th>CH4208</th>\n",
       "      <td>1.0</td>\n",
       "      <td>0.0</td>\n",
       "      <td>1.0</td>\n",
       "      <td>0.0</td>\n",
       "      <td>0.0</td>\n",
       "      <td>0.0</td>\n",
       "    </tr>\n",
       "  </tbody>\n",
       "</table>\n",
       "</div>"
      ],
      "text/plain": [
       "       primary      primary_multiclass               \n",
       "             0    1                  0    1    2    3\n",
       "CH4208     1.0  0.0                1.0  0.0  0.0  0.0\n",
       "CH4208     1.0  0.0                1.0  0.0  0.0  0.0\n",
       "CH4208     1.0  0.0                1.0  0.0  0.0  0.0\n",
       "CH4208     1.0  0.0                1.0  0.0  0.0  0.0\n",
       "CH4208     1.0  0.0                1.0  0.0  0.0  0.0\n",
       "CH4208     1.0  0.0                1.0  0.0  0.0  0.0\n",
       "CH4208     1.0  0.0                1.0  0.0  0.0  0.0\n",
       "CH4208     1.0  0.0                1.0  0.0  0.0  0.0"
      ]
     },
     "execution_count": 72,
     "metadata": {},
     "output_type": "execute_result"
    }
   ],
   "source": [
    "labels_df.loc['CH4208']"
   ]
  },
  {
   "cell_type": "markdown",
   "metadata": {},
   "source": [
    "# Instances"
   ]
  },
  {
   "cell_type": "code",
   "execution_count": 73,
   "metadata": {},
   "outputs": [],
   "source": [
    "attrs_df = pd.read_csv('data/Q3/all/attrs.csv', index_col=0)\n",
    "\n",
    "# task_to_label_src = {\n",
    "#     'primary': 'label.instance_binary_label',\n",
    "#     'primary_multiclass': 'label.instance_multiclass_label',\n",
    "# }\n",
    "\n",
    "# task_to_cardinality = {}\n",
    "# for task, label_src in task_to_label_src.items():\n",
    "#     task_to_cardinality[task] = int(attrs_df[label_src].max() + 1)\n"
   ]
  },
  {
   "cell_type": "code",
   "execution_count": 74,
   "metadata": {},
   "outputs": [],
   "source": [
    "data = defaultdict(list)\n",
    "joint_ids = []\n",
    "for exam_id, row in attrs_df.iterrows():\n",
    "    joint_ids.append(exam_id + '_' + row['exdir.loop_id'])\n",
    "    for task, label_src in task_to_label_src.items():\n",
    "        if np.isnan(row[label_src]):\n",
    "            for k in range(task_to_cardinality[task]):\n",
    "                if k == label_idx:\n",
    "                    data[(task, k)].append(np.nan)\n",
    "                else:\n",
    "                    data[(task, k)].append(np.nan)\n",
    "        else:\n",
    "            label_idx = int(row[label_src])\n",
    "            for k in range(task_to_cardinality[task]):\n",
    "                if k == label_idx:\n",
    "                    data[(task, k)].append(1.0)\n",
    "                else:\n",
    "                    data[(task, k)].append(0.0)"
   ]
  },
  {
   "cell_type": "code",
   "execution_count": 75,
   "metadata": {},
   "outputs": [],
   "source": [
    "labels_df = pd.DataFrame(data, index=joint_ids)\n",
    "labels_df.to_csv('data/labels/Q3/instances.csv')"
   ]
  },
  {
   "cell_type": "code",
   "execution_count": 76,
   "metadata": {},
   "outputs": [
    {
     "ename": "ValueError",
     "evalue": "The truth value of a Series is ambiguous. Use a.empty, a.bool(), a.item(), a.any() or a.all().",
     "output_type": "error",
     "traceback": [
      "\u001b[0;31m---------------------------------------------------------------------------\u001b[0m",
      "\u001b[0;31mValueError\u001b[0m                                Traceback (most recent call last)",
      "\u001b[0;32m<ipython-input-76-6ff32a0c968b>\u001b[0m in \u001b[0;36m<module>\u001b[0;34m\u001b[0m\n\u001b[0;32m----> 1\u001b[0;31m \u001b[0mnon_nan_df\u001b[0m \u001b[0;34m=\u001b[0m \u001b[0mlabels_df\u001b[0m\u001b[0;34m.\u001b[0m\u001b[0mloc\u001b[0m\u001b[0;34m[\u001b[0m\u001b[0;32mnot\u001b[0m \u001b[0mnp\u001b[0m\u001b[0;34m.\u001b[0m\u001b[0misnan\u001b[0m\u001b[0;34m(\u001b[0m\u001b[0mlabels_df\u001b[0m\u001b[0;34m[\u001b[0m\u001b[0;34m'primary'\u001b[0m\u001b[0;34m]\u001b[0m\u001b[0;34m[\u001b[0m\u001b[0;36m0\u001b[0m\u001b[0;34m]\u001b[0m\u001b[0;34m)\u001b[0m\u001b[0;34m]\u001b[0m\u001b[0;34m\u001b[0m\u001b[0;34m\u001b[0m\u001b[0m\n\u001b[0m",
      "\u001b[0;32m~/cow-tus/.env/lib/python3.7/site-packages/pandas/core/generic.py\u001b[0m in \u001b[0;36m__nonzero__\u001b[0;34m(self)\u001b[0m\n\u001b[1;32m   1553\u001b[0m             \u001b[0;34m\"The truth value of a {0} is ambiguous. \"\u001b[0m\u001b[0;34m\u001b[0m\u001b[0;34m\u001b[0m\u001b[0m\n\u001b[1;32m   1554\u001b[0m             \"Use a.empty, a.bool(), a.item(), a.any() or a.all().\".format(\n\u001b[0;32m-> 1555\u001b[0;31m                 \u001b[0mself\u001b[0m\u001b[0;34m.\u001b[0m\u001b[0m__class__\u001b[0m\u001b[0;34m.\u001b[0m\u001b[0m__name__\u001b[0m\u001b[0;34m\u001b[0m\u001b[0;34m\u001b[0m\u001b[0m\n\u001b[0m\u001b[1;32m   1556\u001b[0m             )\n\u001b[1;32m   1557\u001b[0m         )\n",
      "\u001b[0;31mValueError\u001b[0m: The truth value of a Series is ambiguous. Use a.empty, a.bool(), a.item(), a.any() or a.all()."
     ]
    }
   ],
   "source": [
    "non_nan_df = labels_df.loc[not np.isnan(labels_df['primary'][0])]"
   ]
  },
  {
   "cell_type": "code",
   "execution_count": 77,
   "metadata": {},
   "outputs": [
    {
     "data": {
      "text/plain": [
       "OR3785_3785L5     1.0\n",
       "OR3785_3785L6     1.0\n",
       "OR3785_3785L7     1.0\n",
       "OR3785_3785LV     1.0\n",
       "OR3785_3785R4     1.0\n",
       "                 ... \n",
       "OR4859_4859L7     1.0\n",
       "OR4859_4859R4     1.0\n",
       "OR4859_4859R6     1.0\n",
       "OR4859_4859RR5    1.0\n",
       "OR4859_4859RV     1.0\n",
       "Name: 0, Length: 673, dtype: float64"
      ]
     },
     "execution_count": 77,
     "metadata": {},
     "output_type": "execute_result"
    }
   ],
   "source": [
    "labels_df['primary'][0]"
   ]
  },
  {
   "cell_type": "code",
   "execution_count": null,
   "metadata": {},
   "outputs": [],
   "source": []
  }
 ],
 "metadata": {
  "kernelspec": {
   "display_name": "Python 3",
   "language": "python",
   "name": "python3"
  },
  "language_info": {
   "codemirror_mode": {
    "name": "ipython",
    "version": 3
   },
   "file_extension": ".py",
   "mimetype": "text/x-python",
   "name": "python",
   "nbconvert_exporter": "python",
   "pygments_lexer": "ipython3",
   "version": "3.7.4"
  }
 },
 "nbformat": 4,
 "nbformat_minor": 4
}
