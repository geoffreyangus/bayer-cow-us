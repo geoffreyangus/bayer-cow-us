{
 "cells": [
  {
   "cell_type": "code",
   "execution_count": 10,
   "metadata": {},
   "outputs": [],
   "source": [
    "import os\n",
    "import os.path as osp\n",
    "os.chdir('/home/gangus/cow-tus')\n",
    "import re\n",
    "\n",
    "from matplotlib import pyplot as plt\n",
    "import seaborn as sns\n",
    "import pandas as pd\n",
    "import numpy as np"
   ]
  },
  {
   "cell_type": "code",
   "execution_count": 26,
   "metadata": {},
   "outputs": [
    {
     "name": "stdout",
     "output_type": "stream",
     "text": [
      "0.7939698492462312\n",
      "0.7200287150035893\n",
      "0.9023689877961236\n",
      "0.715721464465183\n",
      "0.8542713567839195\n"
     ]
    }
   ],
   "source": [
    "experiment_dirs = [\n",
    "    'experiments/instance-level-learning/2normal_binary/13',\n",
    "    'experiments/instance-level-learning/2normal_binary/12',\n",
    "    'experiments/instance-level-learning/2normal_binary/11',\n",
    "    'experiments/instance-level-learning/2normal_binary/10',\n",
    "    'experiments/instance-level-learning/2normal_binary/9'\n",
    "]\n",
    "query = \"valid/roc_auc': \"\n",
    "for experiment_dir in experiment_dirs:\n",
    "    cout_path = osp.join(experiment_dir, 'cout.txt')\n",
    "    with open(cout_path, 'r') as f:\n",
    "        line = f.readlines()[0]\n",
    "        path_idx = re.search('Setting logging directory to: ', line).span()[1]\n",
    "        log_path = osp.join(line[path_idx:-1], 'emmental.log')\n",
    "    with open(log_path, 'r') as f:\n",
    "        primary_metric_str = re.findall(f\"{query}[0-9\\.]+\", \"\\n\".join(f.readlines()))\n",
    "        primary_metric_vals = [s[len(query):] for s in primary_metric_str]\n",
    "        print(max(primary_metric_vals))\n",
    "        \n"
   ]
  },
  {
   "cell_type": "code",
   "execution_count": null,
   "metadata": {},
   "outputs": [],
   "source": []
  }
 ],
 "metadata": {
  "kernelspec": {
   "display_name": "Python 3",
   "language": "python",
   "name": "python3"
  },
  "language_info": {
   "codemirror_mode": {
    "name": "ipython",
    "version": 3
   },
   "file_extension": ".py",
   "mimetype": "text/x-python",
   "name": "python",
   "nbconvert_exporter": "python",
   "pygments_lexer": "ipython3",
   "version": "3.7.4"
  }
 },
 "nbformat": 4,
 "nbformat_minor": 4
}
